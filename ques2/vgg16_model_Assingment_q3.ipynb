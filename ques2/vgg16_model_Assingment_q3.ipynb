{
 "cells": [
  {
   "cell_type": "code",
   "execution_count": 1,
   "id": "5fdf0cc6",
   "metadata": {},
   "outputs": [],
   "source": [
    "import tensorflow as tf\n",
    "import keras,os\n",
    "from keras.models import Sequential\n",
    "from keras.layers import Dense, Conv2D, MaxPool2D , Flatten\n",
    "from keras.preprocessing.image import ImageDataGenerator\n",
    "import numpy as np\n",
    "import matplotlib.pyplot as plt\n",
    "from keras.applications.vgg16 import VGG16"
   ]
  },
  {
   "cell_type": "code",
   "execution_count": 2,
   "id": "98639bfb",
   "metadata": {},
   "outputs": [
    {
     "name": "stdout",
     "output_type": "stream",
     "text": [
      "Found 840 images belonging to 2 classes.\n",
      "Found 188 images belonging to 2 classes.\n"
     ]
    }
   ],
   "source": [
    "trdata = ImageDataGenerator()\n",
    "traindata = trdata.flow_from_directory(directory=r\"C:\\Users\\matin\\Downloads\\dataset\\train\",target_size=(224,224))\n",
    "tsdata = ImageDataGenerator()\n",
    "testdata = tsdata.flow_from_directory(directory=r\"C:\\Users\\matin\\Downloads\\dataset\\test\", target_size=(224,224))"
   ]
  },
  {
   "cell_type": "code",
   "execution_count": 3,
   "id": "81a4e4a8",
   "metadata": {},
   "outputs": [
    {
     "data": {
      "text/plain": [
       "<keras.engine.functional.Functional at 0x245d18475e0>"
      ]
     },
     "execution_count": 3,
     "metadata": {},
     "output_type": "execute_result"
    }
   ],
   "source": [
    "tf.keras.applications.vgg16.VGG16(\n",
    "    include_top=False,\n",
    "    weights='imagenet',\n",
    "    input_tensor=None,\n",
    "    input_shape=None,\n",
    "    pooling='avg',\n",
    "    classes=2,\n",
    "    classifier_activation='softmax'\n",
    ")"
   ]
  },
  {
   "cell_type": "code",
   "execution_count": 4,
   "id": "5315cd3c",
   "metadata": {},
   "outputs": [],
   "source": [
    "model = Sequential()\n",
    "model.add(tf.keras.applications.vgg16.VGG16(\n",
    "    include_top=False,\n",
    "    weights='imagenet',\n",
    "    input_tensor=None,\n",
    "    input_shape=None,\n",
    "    pooling='avg',\n",
    "    classes=2,\n",
    "    classifier_activation='softmax'\n",
    "))"
   ]
  },
  {
   "cell_type": "code",
   "execution_count": 5,
   "id": "a66ad56e",
   "metadata": {},
   "outputs": [],
   "source": [
    "model.add(Flatten())\n",
    "model.add(Dense(units=4096,activation=\"relu\"))\n",
    "model.add(Dense(units=4096,activation=\"relu\"))\n",
    "model.add(Dense(units=2, activation=\"softmax\"))"
   ]
  },
  {
   "cell_type": "code",
   "execution_count": 6,
   "id": "404287a4",
   "metadata": {},
   "outputs": [
    {
     "name": "stderr",
     "output_type": "stream",
     "text": [
      "C:\\Users\\matin\\anaconda3\\lib\\site-packages\\keras\\optimizers\\optimizer_v2\\adam.py:110: UserWarning: The `lr` argument is deprecated, use `learning_rate` instead.\n",
      "  super(Adam, self).__init__(name, **kwargs)\n"
     ]
    }
   ],
   "source": [
    "from keras.optimizers import Adam\n",
    "opt = Adam(lr=0.0001)\n",
    "model.compile(optimizer=opt, loss=keras.losses.categorical_crossentropy, metrics=['accuracy'])"
   ]
  },
  {
   "cell_type": "code",
   "execution_count": 7,
   "id": "9d2de404",
   "metadata": {},
   "outputs": [],
   "source": [
    "for layer in model.layers[0].layers:\n",
    "    layer.trainable = False"
   ]
  },
  {
   "cell_type": "code",
   "execution_count": 8,
   "id": "b7bfdd50",
   "metadata": {},
   "outputs": [
    {
     "name": "stdout",
     "output_type": "stream",
     "text": [
      "Model: \"sequential\"\n",
      "_________________________________________________________________\n",
      " Layer (type)                Output Shape              Param #   \n",
      "=================================================================\n",
      " vgg16 (Functional)          (None, 512)               14714688  \n",
      "                                                                 \n",
      " flatten (Flatten)           (None, 512)               0         \n",
      "                                                                 \n",
      " dense (Dense)               (None, 4096)              2101248   \n",
      "                                                                 \n",
      " dense_1 (Dense)             (None, 4096)              16781312  \n",
      "                                                                 \n",
      " dense_2 (Dense)             (None, 2)                 8194      \n",
      "                                                                 \n",
      "=================================================================\n",
      "Total params: 33,605,442\n",
      "Trainable params: 18,890,754\n",
      "Non-trainable params: 14,714,688\n",
      "_________________________________________________________________\n"
     ]
    }
   ],
   "source": [
    "model.summary()"
   ]
  },
  {
   "cell_type": "code",
   "execution_count": null,
   "id": "d73753e6",
   "metadata": {},
   "outputs": [
    {
     "name": "stderr",
     "output_type": "stream",
     "text": [
      "C:\\Users\\matin\\AppData\\Local\\Temp\\ipykernel_764\\2626983291.py:2: UserWarning: `Model.fit_generator` is deprecated and will be removed in a future version. Please use `Model.fit`, which supports generators.\n",
      "  hist = model.fit_generator(generator=traindata, validation_data= testdata,epochs=10)\n"
     ]
    },
    {
     "name": "stdout",
     "output_type": "stream",
     "text": [
      "Epoch 1/10\n",
      "27/27 [==============================] - 1069s 40s/step - loss: 1.0628 - accuracy: 0.4786 - val_loss: 0.6931 - val_accuracy: 0.5160\n",
      "Epoch 2/10\n",
      "27/27 [==============================] - 2200s 83s/step - loss: 0.6909 - accuracy: 0.5000 - val_loss: 0.6743 - val_accuracy: 0.6117\n",
      "Epoch 3/10\n",
      "27/27 [==============================] - 1215s 44s/step - loss: 0.6902 - accuracy: 0.5655 - val_loss: 0.6685 - val_accuracy: 0.6596\n",
      "Epoch 4/10\n",
      "27/27 [==============================] - 1100s 41s/step - loss: 0.6865 - accuracy: 0.5786 - val_loss: 0.6798 - val_accuracy: 0.6223\n",
      "Epoch 5/10\n",
      "27/27 [==============================] - 1027s 38s/step - loss: 0.6849 - accuracy: 0.5869 - val_loss: 0.6782 - val_accuracy: 0.6489\n",
      "Epoch 6/10\n",
      "27/27 [==============================] - 1039s 39s/step - loss: 0.6890 - accuracy: 0.5548 - val_loss: 0.6939 - val_accuracy: 0.5053\n",
      "Epoch 7/10\n",
      "27/27 [==============================] - 1076s 40s/step - loss: 0.6808 - accuracy: 0.5810 - val_loss: 0.6525 - val_accuracy: 0.6330\n",
      "Epoch 8/10\n",
      "27/27 [==============================] - 1044s 39s/step - loss: 0.6761 - accuracy: 0.5905 - val_loss: 0.6591 - val_accuracy: 0.6489\n",
      "Epoch 9/10\n",
      "27/27 [==============================] - 1040s 39s/step - loss: 0.6713 - accuracy: 0.5976 - val_loss: 0.6361 - val_accuracy: 0.6755\n",
      "Epoch 10/10\n",
      "23/27 [========================>.....] - ETA: 2:43 - loss: 0.6741 - accuracy: 0.5951"
     ]
    }
   ],
   "source": [
    "from keras.callbacks import ModelCheckpoint, EarlyStopping\n",
    "hist = model.fit_generator(generator=traindata, validation_data= testdata,epochs=10)\n"
   ]
  },
  {
   "cell_type": "code",
   "execution_count": null,
   "id": "8e4c7798",
   "metadata": {},
   "outputs": [],
   "source": [
    "import matplotlib.pyplot as plt\n",
    "plt.plot(hist.history[\"accuracy\"])\n",
    "plt.plot(hist.history['val_accuracy'])\n",
    "plt.plot(hist.history['loss'])       \n",
    "plt.plot(hist.history['val_loss'])\n",
    "plt.title(\"model accuracy\")\n",
    "plt.ylabel(\"Accuracy\")\n",
    "plt.xlabel(\"Epoch\")\n",
    "plt.legend([\"Accuracy\",\"Validation Accuracy\",\"loss\",\"Validation Loss\"])\n",
    "plt.show()"
   ]
  },
  {
   "cell_type": "code",
   "execution_count": null,
   "id": "afc84c24",
   "metadata": {},
   "outputs": [],
   "source": [
    "import os\n",
    "African = []\n",
    "Asian = []\n",
    "for files in os.listdir(r\"C:\\Users\\matin\\Downloads\\dataset\\train\\African\")[:130]:\n",
    "    path = os.path.join(r\"C:\\Users\\matin\\Downloads\\dataset\\train\\African\", files)\n",
    "    man_lst.append(path)\n",
    "for files in os.listdir(r\"C:\\Users\\matin\\Downloads\\dataset\\train\\Asian\")[:131]:\n",
    "    path = os.path.join(r\"C:\\Users\\matin\\Downloads\\dataset\\train\\Asian\")\n",
    "    woman_lst.append(path)"
   ]
  },
  {
   "cell_type": "code",
   "execution_count": null,
   "id": "60405884",
   "metadata": {},
   "outputs": [],
   "source": [
    "os.makedirs(\"test_data/men\")\n",
    "os.makedirs(\"test_data/women\")"
   ]
  },
  {
   "cell_type": "code",
   "execution_count": null,
   "id": "b1cfe298",
   "metadata": {},
   "outputs": [],
   "source": [
    "import cv2\n",
    "for i in man_lst:\n",
    "    try:\n",
    "        file_name = os.path.join(\"/content/test_data/men\",i.split('/')[-1])\n",
    "        image = cv2.imread(i)\n",
    "        cv2.imwrite(file_name,image)\n",
    "    except:\n",
    "        print(i)"
   ]
  },
  {
   "cell_type": "code",
   "execution_count": null,
   "id": "a98c42fc",
   "metadata": {},
   "outputs": [],
   "source": []
  }
 ],
 "metadata": {
  "kernelspec": {
   "display_name": "Python 3 (ipykernel)",
   "language": "python",
   "name": "python3"
  },
  "language_info": {
   "codemirror_mode": {
    "name": "ipython",
    "version": 3
   },
   "file_extension": ".py",
   "mimetype": "text/x-python",
   "name": "python",
   "nbconvert_exporter": "python",
   "pygments_lexer": "ipython3",
   "version": "3.9.15"
  }
 },
 "nbformat": 4,
 "nbformat_minor": 5
}
